{
 "cells": [
  {
   "cell_type": "code",
   "execution_count": 3,
   "metadata": {},
   "outputs": [
    {
     "name": "stdout",
     "output_type": "stream",
     "text": [
      "37.5\n"
     ]
    }
   ],
   "source": [
    "'''2.4'''\n",
    "\n",
    "import pandas as pd\n",
    "\n",
    "def create_medications(names, counts):\n",
    "    medications = pd.Series(index=names, data=counts)\n",
    "    return medications\n",
    "   \n",
    "\n",
    "def get_percent(medications, name):\n",
    "    return(medications.loc[name]/sum(medications) * 100)\n",
    "\n",
    "\n",
    "if __name__ == '__main__':\n",
    "    names=['chlorhexidine', 'cyntomycin', 'afobazol']\n",
    "    counts=[15, 18, 7]\n",
    "    medications = create_medications(names, counts)\n",
    "    print(get_percent(medications, \"chlorhexidine\")) #37.5\n",
    "\n"
   ]
  },
  {
   "cell_type": "code",
   "execution_count": 8,
   "metadata": {},
   "outputs": [
    {
     "data": {
      "text/html": [
       "<div>\n",
       "<style scoped>\n",
       "    .dataframe tbody tr th:only-of-type {\n",
       "        vertical-align: middle;\n",
       "    }\n",
       "\n",
       "    .dataframe tbody tr th {\n",
       "        vertical-align: top;\n",
       "    }\n",
       "\n",
       "    .dataframe thead th {\n",
       "        text-align: right;\n",
       "    }\n",
       "</style>\n",
       "<table border=\"1\" class=\"dataframe\">\n",
       "  <thead>\n",
       "    <tr style=\"text-align: right;\">\n",
       "      <th></th>\n",
       "      <th>country</th>\n",
       "      <th>population</th>\n",
       "      <th>square</th>\n",
       "    </tr>\n",
       "  </thead>\n",
       "  <tbody>\n",
       "    <tr>\n",
       "      <th>UK</th>\n",
       "      <td>Англия</td>\n",
       "      <td>56.29</td>\n",
       "      <td>133396</td>\n",
       "    </tr>\n",
       "    <tr>\n",
       "      <th>CA</th>\n",
       "      <td>Канада</td>\n",
       "      <td>38.05</td>\n",
       "      <td>9984670</td>\n",
       "    </tr>\n",
       "    <tr>\n",
       "      <th>US</th>\n",
       "      <td>США</td>\n",
       "      <td>322.28</td>\n",
       "      <td>9826630</td>\n",
       "    </tr>\n",
       "    <tr>\n",
       "      <th>RU</th>\n",
       "      <td>Россия</td>\n",
       "      <td>146.24</td>\n",
       "      <td>17125191</td>\n",
       "    </tr>\n",
       "    <tr>\n",
       "      <th>UA</th>\n",
       "      <td>Украина</td>\n",
       "      <td>45.50</td>\n",
       "      <td>603628</td>\n",
       "    </tr>\n",
       "    <tr>\n",
       "      <th>BY</th>\n",
       "      <td>Беларусь</td>\n",
       "      <td>9.50</td>\n",
       "      <td>207600</td>\n",
       "    </tr>\n",
       "    <tr>\n",
       "      <th>KZ</th>\n",
       "      <td>Казахстан</td>\n",
       "      <td>17.04</td>\n",
       "      <td>2724902</td>\n",
       "    </tr>\n",
       "  </tbody>\n",
       "</table>\n",
       "</div>"
      ],
      "text/plain": [
       "      country  population    square\n",
       "UK     Англия       56.29    133396\n",
       "CA     Канада       38.05   9984670\n",
       "US        США      322.28   9826630\n",
       "RU     Россия      146.24  17125191\n",
       "UA    Украина       45.50    603628\n",
       "BY   Беларусь        9.50    207600\n",
       "KZ  Казахстан       17.04   2724902"
      ]
     },
     "metadata": {},
     "output_type": "display_data"
    },
    {
     "data": {
      "text/plain": [
       "UK      133396\n",
       "CA     9984670\n",
       "US     9826630\n",
       "RU    17125191\n",
       "UA      603628\n",
       "BY      207600\n",
       "KZ     2724902\n",
       "Name: square, dtype: int64"
      ]
     },
     "execution_count": 8,
     "metadata": {},
     "output_type": "execute_result"
    }
   ],
   "source": [
    "'''3'''\n",
    "import pandas as pd\n",
    "\n",
    "countries_df = pd.DataFrame(\n",
    "    data = [\n",
    "        ['Англия', 56.29, 133396],\n",
    "        ['Канада', 38.05, 9984670],\n",
    "        ['США', 322.28, 9826630],\n",
    "        ['Россия', 146.24, 17125191],\n",
    "        ['Украина', 45.5, 603628],\n",
    "        ['Беларусь', 9.5, 207600],\n",
    "        ['Казахстан', 17.04, 2724902]\n",
    "    ],\n",
    "    columns= ['country', 'population', 'square'],\n",
    "    index = ['UK', 'CA', 'US', 'RU', 'UA', 'BY', 'KZ']\n",
    ")\n",
    "display(countries_df)\n",
    "\n",
    "countries_df['square']"
   ]
  },
  {
   "cell_type": "code",
   "execution_count": 18,
   "metadata": {},
   "outputs": [
    {
     "name": "stdout",
     "output_type": "stream",
     "text": [
      "-74\n"
     ]
    }
   ],
   "source": [
    "import pandas as pd\n",
    "\n",
    "def create_companyDF(incomes, expenses, years):\n",
    "    df = pd.DataFrame({\n",
    "        'Incomes': incomes,\n",
    "        'Expenses': expenses\n",
    "        },\n",
    "        index = years\n",
    "    )\n",
    "    return df\n",
    "def get_profit(df, year):\n",
    "    if year in df.index:\n",
    "        profit = df.loc[year, 'Incomes'] - df.loc[year, 'Expenses']\n",
    "    else:\n",
    "        profit=None\n",
    "    return profit\n",
    "\n",
    "if __name__ == '__main__':\n",
    "    expenses = [156, 130, 270]\n",
    "    incomes = [478, 512, 196]\n",
    "    years = [2018, 2019, 2020]\n",
    "    \n",
    "    scienceyou = create_companyDF(incomes, expenses, years)\n",
    "    print(get_profit(scienceyou, 2020)) #-74\n",
    "\n"
   ]
  },
  {
   "cell_type": "code",
   "execution_count": null,
   "metadata": {},
   "outputs": [],
   "source": []
  }
 ],
 "metadata": {
  "kernelspec": {
   "display_name": "Python 3.10.7 64-bit (microsoft store)",
   "language": "python",
   "name": "python3"
  },
  "language_info": {
   "codemirror_mode": {
    "name": "ipython",
    "version": 3
   },
   "file_extension": ".py",
   "mimetype": "text/x-python",
   "name": "python",
   "nbconvert_exporter": "python",
   "pygments_lexer": "ipython3",
   "version": "3.10.7"
  },
  "orig_nbformat": 4,
  "vscode": {
   "interpreter": {
    "hash": "a774e44f741c52d954d64813adf9cbeff8a721c139ec2dbe5d60faa9abbca264"
   }
  }
 },
 "nbformat": 4,
 "nbformat_minor": 2
}
